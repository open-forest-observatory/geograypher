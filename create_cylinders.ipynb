{
 "cells": [
  {
   "cell_type": "code",
   "execution_count": 1,
   "id": "42336b9b-b701-4e25-a7fa-33cef06e529c",
   "metadata": {},
   "outputs": [],
   "source": [
    "import json\n",
    "from matplotlib import colormaps\n",
    "from matplotlib.colors import Normalize\n",
    "import numpy as np\n",
    "from pathlib import Path\n",
    "from tqdm import tqdm\n",
    "\n",
    "from geograypher.utils.visualization import merge_cylinders"
   ]
  },
  {
   "cell_type": "code",
   "execution_count": 2,
   "id": "3356716a-d276-4494-b335-5fac9a44dae4",
   "metadata": {},
   "outputs": [
    {
     "name": "stdout",
     "output_type": "stream",
     "text": [
      "['/ofo-share/repos-eric/geograypher/geograypher']\n"
     ]
    }
   ],
   "source": [
    "import geograypher\n",
    "print(geograypher.__path__)"
   ]
  },
  {
   "cell_type": "code",
   "execution_count": 3,
   "id": "354633d7-fbee-48d3-a16a-9e7a8800a000",
   "metadata": {},
   "outputs": [],
   "source": [
    "SAVE = Path(\"/ofo-share/scratch-eric/tmp/\")\n",
    "data = json.load((SAVE / \"data.json\").open(\"r\"))"
   ]
  },
  {
   "cell_type": "code",
   "execution_count": 4,
   "id": "b2ff3e34-7ea0-4962-9235-6471ce2a46dd",
   "metadata": {},
   "outputs": [],
   "source": [
    "norm = Normalize(vmin=0, vmax=20)\n",
    "cmap = colormaps[\"tab20\"]"
   ]
  },
  {
   "cell_type": "code",
   "execution_count": 5,
   "id": "66e00969-e786-4d95-9f17-8cc1c1270e11",
   "metadata": {},
   "outputs": [],
   "source": [
    "def append_array(ptset, label):\n",
    "    return (\n",
    "        np.array(ptset[\"starts\"]),\n",
    "        np.array(ptset[\"ends\"]),\n",
    "        np.ones(len(ptset[\"starts\"])) * label,\n",
    "    )"
   ]
  },
  {
   "cell_type": "code",
   "execution_count": 6,
   "id": "93a90e3f-23c7-4275-a387-0fcb27957b77",
   "metadata": {},
   "outputs": [
    {
     "name": "stderr",
     "output_type": "stream",
     "text": [
      "100%|██████████| 10/10 [00:45<00:00,  4.57s/it]\n"
     ]
    }
   ],
   "source": [
    "for stem, mission in tqdm(sorted(data.items())):\n",
    "    for k1, k2, label in [(\"matched\", \"pts1\", 0), (\"unmatched\", \"pts1\", 1), (\"matched\", \"pts2\", 2), (\"unmatched\", \"pts2\", 3), (\"matched\", \"between\", 6)]:\n",
    "        starts, ends, labels = append_array(mission[k1][k2], label=label)\n",
    "        merge_cylinders(\n",
    "            starts=starts,\n",
    "            ends=ends,\n",
    "            community_IDs=labels,\n",
    "            cmap=cmap,\n",
    "            norm=norm,\n",
    "        ).save(SAVE / f\"data_{stem}_{k1}_{k2}.ply\", texture=\"RGB\")"
   ]
  },
  {
   "cell_type": "code",
   "execution_count": null,
   "id": "50e620a8-188a-4e4f-834b-d0dbb6c2c4ad",
   "metadata": {},
   "outputs": [],
   "source": []
  }
 ],
 "metadata": {
  "kernelspec": {
   "display_name": "Python [conda env:conda-geograypher]",
   "language": "python",
   "name": "conda-env-conda-geograypher-py"
  },
  "language_info": {
   "codemirror_mode": {
    "name": "ipython",
    "version": 3
   },
   "file_extension": ".py",
   "mimetype": "text/x-python",
   "name": "python",
   "nbconvert_exporter": "python",
   "pygments_lexer": "ipython3",
   "version": "3.9.19"
  }
 },
 "nbformat": 4,
 "nbformat_minor": 5
}
